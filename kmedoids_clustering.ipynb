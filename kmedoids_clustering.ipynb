{
  "cells": [
    {
      "cell_type": "code",
      "execution_count": null,
      "metadata": {
        "id": "IZfIqRvc_UEv"
      },
      "outputs": [],
      "source": [
        "import pandas as pd\n",
        "import numpy as np\n",
        "from datetime import datetime as dt\n",
        "\n",
        "from matplotlib import pyplot as plt\n",
        "import pytz\n",
        "\n",
        "from sklearn_extra.cluster import KMedoids\n",
        "\n",
        "from datetime import timedelta\n",
        "\n",
        "from sklearn.preprocessing import MinMaxScaler\n",
        "\n",
        "import networkx as nx\n",
        "from scipy.sparse import csr_matrix, lil_matrix\n",
        "\n",
        "from time import time\n",
        "\n",
        "\n",
        "\n",
        "from sklearn.metrics import silhouette_score, davies_bouldin_score, calinski_harabasz_score\n",
        "\n",
        "from tqdm import tqdm\n",
        "\n",
        "from scipy.spatial.distance import pdist, squareform\n",
        "\n",
        "\n",
        "import random"
      ]
    },
    {
      "cell_type": "code",
      "execution_count": null,
      "metadata": {
        "colab": {
          "base_uri": "https://localhost:8080/"
        },
        "id": "mMtd6OChGSTN",
        "outputId": "a34ea087-7d07-4598-fb55-7cc57ebc1b8e"
      },
      "outputs": [
        {
          "name": "stdout",
          "output_type": "stream",
          "text": [
            "Collecting scikit-learn-extra\n",
            "  Downloading scikit_learn_extra-0.3.0-cp310-cp310-manylinux_2_17_x86_64.manylinux2014_x86_64.whl.metadata (3.6 kB)\n",
            "Requirement already satisfied: numpy>=1.13.3 in /usr/local/lib/python3.10/dist-packages (from scikit-learn-extra) (1.26.4)\n",
            "Requirement already satisfied: scipy>=0.19.1 in /usr/local/lib/python3.10/dist-packages (from scikit-learn-extra) (1.13.1)\n",
            "Requirement already satisfied: scikit-learn>=0.23.0 in /usr/local/lib/python3.10/dist-packages (from scikit-learn-extra) (1.3.2)\n",
            "Requirement already satisfied: joblib>=1.1.1 in /usr/local/lib/python3.10/dist-packages (from scikit-learn>=0.23.0->scikit-learn-extra) (1.4.2)\n",
            "Requirement already satisfied: threadpoolctl>=2.0.0 in /usr/local/lib/python3.10/dist-packages (from scikit-learn>=0.23.0->scikit-learn-extra) (3.5.0)\n",
            "Downloading scikit_learn_extra-0.3.0-cp310-cp310-manylinux_2_17_x86_64.manylinux2014_x86_64.whl (2.0 MB)\n",
            "\u001b[2K   \u001b[90m━━━━━━━━━━━━━━━━━━━━━━━━━━━━━━━━━━━━━━━━\u001b[0m \u001b[32m2.0/2.0 MB\u001b[0m \u001b[31m7.7 MB/s\u001b[0m eta \u001b[36m0:00:00\u001b[0m\n",
            "\u001b[?25hInstalling collected packages: scikit-learn-extra\n",
            "Successfully installed scikit-learn-extra-0.3.0\n"
          ]
        }
      ],
      "source": [
        "!pip install scikit-learn-extra"
      ]
    },
    {
      "cell_type": "code",
      "execution_count": null,
      "metadata": {
        "colab": {
          "base_uri": "https://localhost:8080/"
        },
        "id": "hzpMR0-Z_bch",
        "outputId": "828e23ac-f9df-4d8f-9896-e38b024cfe6f"
      },
      "outputs": [
        {
          "name": "stdout",
          "output_type": "stream",
          "text": [
            "Mounted at /content/drive\n"
          ]
        }
      ],
      "source": [
        "from google.colab import drive\n",
        "drive.mount('/content/drive')"
      ]
    },
    {
      "cell_type": "code",
      "execution_count": null,
      "metadata": {
        "id": "8JWNoeCa_bfO"
      },
      "outputs": [],
      "source": [
        "dataset = pd.read_csv('/content/drive/MyDrive/new_data_preprocessed.csv')"
      ]
    },
    {
      "cell_type": "code",
      "execution_count": null,
      "metadata": {
        "id": "m0Fncx68_bhn"
      },
      "outputs": [],
      "source": [
        "dataset = dataset.drop([\"Charge_Point_ID\"], axis = 1)"
      ]
    },
    {
      "cell_type": "code",
      "execution_count": null,
      "metadata": {
        "id": "7BuQWe1E_bkG"
      },
      "outputs": [],
      "source": [
        "def kmedoids_plus_plus(X, k):\n",
        "    np.random.seed(42)\n",
        "    n_samples = X.shape[0]\n",
        "    medoids = X[np.random.choice(n_samples, k, replace=False)]\n",
        "    return medoids"
      ]
    },
    {
      "cell_type": "code",
      "execution_count": null,
      "metadata": {
        "id": "Mv6gFjpl_bmq"
      },
      "outputs": [],
      "source": [
        "def kmedoids(X, initial_medoids, max_iters=300, tol=1e-4):\n",
        "    n_samples = X.shape[0]\n",
        "    k = initial_medoids.shape[0]\n",
        "    medoids = initial_medoids\n",
        "    prev_medoids = medoids.copy()\n",
        "    cluster_assignments = np.zeros(n_samples)\n",
        "\n",
        "    for _ in range(max_iters):\n",
        "        # Assign clusters\n",
        "        distances = np.linalg.norm(X[:, np.newaxis] - medoids, axis=2)\n",
        "        cluster_assignments = np.argmin(distances, axis=1)\n",
        "\n",
        "        # Update medoids\n",
        "        for i in range(k):\n",
        "            points_in_cluster = X[cluster_assignments == i]\n",
        "            if len(points_in_cluster) > 0:\n",
        "                medoid_idx = np.argmin(np.sum(np.linalg.norm(points_in_cluster[:, np.newaxis] - points_in_cluster, axis=2), axis=1))\n",
        "                medoids[i] = points_in_cluster[medoid_idx]\n",
        "\n",
        "        # Check for convergence\n",
        "        medoid_shifts = np.linalg.norm(medoids - prev_medoids, axis=1)\n",
        "        if np.all(medoid_shifts < tol):\n",
        "            break\n",
        "        prev_medoids = medoids.copy()\n",
        "\n",
        "    return medoids, cluster_assignments"
      ]
    },
    {
      "cell_type": "code",
      "execution_count": null,
      "metadata": {
        "id": "RX03c1Jj_74Z"
      },
      "outputs": [],
      "source": [
        "X = np.array(dataset[:30000])"
      ]
    },
    {
      "cell_type": "code",
      "execution_count": null,
      "metadata": {
        "colab": {
          "background_save": true,
          "base_uri": "https://localhost:8080/"
        },
        "id": "ufQSdShB_bom",
        "outputId": "eceefdb9-d7d6-4b1f-d04f-c99bb1c3504b"
      },
      "outputs": [
        {
          "metadata": {
            "tags": null
          },
          "name": "stdout",
          "output_type": "stream",
          "text": [
            "Cluster 0: 20949 elements\n",
            "Cluster 1: 9051 elements\n",
            "Silhouette score for k=2: 0.3510269742339459\n",
            "Cluster 0: 10378 elements\n",
            "Cluster 1: 11460 elements\n",
            "Cluster 2: 8162 elements\n",
            "Silhouette score for k=3: 0.27266856179169885\n",
            "Cluster 0: 7920 elements\n",
            "Cluster 1: 9605 elements\n",
            "Cluster 2: 9167 elements\n",
            "Cluster 3: 3308 elements\n",
            "Silhouette score for k=4: 0.29623948567305874\n",
            "Cluster 0: 7797 elements\n",
            "Cluster 1: 7149 elements\n",
            "Cluster 2: 2924 elements\n",
            "Cluster 3: 6240 elements\n",
            "Cluster 4: 5890 elements\n",
            "Silhouette score for k=5: 0.2007652861359552\n",
            "Cluster 0: 4392 elements\n",
            "Cluster 1: 7193 elements\n",
            "Cluster 2: 5793 elements\n",
            "Cluster 3: 2955 elements\n",
            "Cluster 4: 5890 elements\n",
            "Cluster 5: 3777 elements\n",
            "Silhouette score for k=6: 0.21530760206457233\n",
            "Cluster 0: 6429 elements\n",
            "Cluster 1: 5792 elements\n",
            "Cluster 2: 2927 elements\n",
            "Cluster 3: 3283 elements\n",
            "Cluster 4: 5695 elements\n",
            "Cluster 5: 2725 elements\n",
            "Cluster 6: 3149 elements\n",
            "Silhouette score for k=7: 0.2373259128133865\n",
            "Cluster 0: 944 elements\n",
            "Cluster 1: 6251 elements\n",
            "Cluster 2: 5767 elements\n",
            "Cluster 3: 2580 elements\n",
            "Cluster 4: 2642 elements\n",
            "Cluster 5: 2926 elements\n",
            "Cluster 6: 3214 elements\n",
            "Cluster 7: 5676 elements\n",
            "Silhouette score for k=8: 0.2546937239517566\n",
            "Cluster 0: 3557 elements\n",
            "Cluster 1: 4426 elements\n",
            "Cluster 2: 5843 elements\n",
            "Cluster 3: 2144 elements\n",
            "Cluster 4: 2927 elements\n",
            "Cluster 5: 916 elements\n",
            "Cluster 6: 2642 elements\n",
            "Cluster 7: 4367 elements\n",
            "Cluster 8: 3178 elements\n",
            "Silhouette score for k=9: 0.2521367003635791\n"
          ]
        }
      ],
      "source": [
        "import matplotlib.pyplot as plt\n",
        "from collections import Counter\n",
        "\n",
        "def grid_search_kmedoids(X, k_range):\n",
        "    silhouette_scores = []\n",
        "    for k in k_range:\n",
        "        initial_medoids = kmedoids_plus_plus(X, k)\n",
        "        #final_medoids, cluster_assignments = kmedoids(X, initial_medoids)\n",
        "\n",
        "        kmedoid = KMedoids(n_clusters=k, method='pam', random_state=42)\n",
        "        cluster_assignments = kmedoid.fit_predict(X)\n",
        "\n",
        "        # Count the number of elements in each cluster\n",
        "        cluster_counts = Counter(cluster_assignments)\n",
        "\n",
        "        # Print the number of elements in each cluster\n",
        "        for cluster_id, count in sorted(cluster_counts.items()):\n",
        "            print(f\"Cluster {cluster_id}: {count} elements\")\n",
        "\n",
        "        score = silhouette_score(X, cluster_assignments)\n",
        "        silhouette_scores.append(score)\n",
        "        print(f\"Silhouette score for k={k}: {score}\")\n",
        "\n",
        "    plt.figure(figsize=(10, 6))\n",
        "    plt.plot(k_range, silhouette_scores, marker='o')\n",
        "    plt.xlabel('Number of clusters (k)')\n",
        "    plt.ylabel('Silhouette Score')\n",
        "    plt.title('Silhouette Score for different values of k (K-Medoids)')\n",
        "    plt.grid(True)\n",
        "    plt.show()\n",
        "\n",
        "    return silhouette_scores\n",
        "\n",
        "# Define the range of k values\n",
        "k_range = range(2, 13)\n",
        "\n",
        "# Assuming X is your dataset loaded as a numpy array\n",
        "# Example: X = np.array([...])\n",
        "\n",
        "# Perform grid search and plot silhouette scores\n",
        "silhouette_scores = grid_search_kmedoids(X, k_range)"
      ]
    },
    {
      "cell_type": "code",
      "execution_count": null,
      "metadata": {
        "id": "K-BNHgqo_brJ"
      },
      "outputs": [],
      "source": []
    }
  ],
  "metadata": {
    "accelerator": "TPU",
    "colab": {
      "gpuType": "V28",
      "provenance": []
    },
    "kernelspec": {
      "display_name": "Python 3",
      "name": "python3"
    },
    "language_info": {
      "name": "python"
    }
  },
  "nbformat": 4,
  "nbformat_minor": 0
}